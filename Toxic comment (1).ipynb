{
 "cells": [
  {
   "cell_type": "code",
   "execution_count": 1,
   "metadata": {},
   "outputs": [],
   "source": [
    "import pandas as pd\n",
    "import numpy as np\n",
    "import matplotlib.pyplot as plt\n",
    "import seaborn as sns\n",
    "import gc\n",
    "\n",
    "from sklearn.linear_model import LogisticRegression\n",
    "from sklearn.model_selection import StratifiedKFold\n",
    "from sklearn.feature_extraction.text import CountVectorizer,TfidfVectorizer\n",
    "from sklearn.decomposition import TruncatedSVD\n",
    "from sklearn.metrics import log_loss,confusion_matrix,classification_report,roc_curve,auc\n",
    "\n",
    "\n",
    "import string\n",
    "import nltk\n",
    "from nltk.corpus import stopwords\n",
    "from nltk.tokenize import word_tokenize\n",
    "from scipy import sparse\n",
    "%matplotlib inline\n",
    "seed = 2390"
   ]
  },
  {
   "cell_type": "code",
   "execution_count": 3,
   "metadata": {},
   "outputs": [
    {
     "name": "stdout",
     "output_type": "stream",
     "text": [
      "Number of rows and columns in the train data set: (159571, 8)\n",
      "Number of rows and columns in the test data set: (153164, 2)\n"
     ]
    }
   ],
   "source": [
    "train = pd.read_csv('C:/Users/tomar/OneDrive/My folder 1/Courses/Kaggle/Toxic Comments/train.csv')\n",
    "test = pd.read_csv('C:/Users/tomar/OneDrive/My folder 1/Courses/Kaggle/Toxic Comments/test.csv')\n",
    "print('Number of rows and columns in the train data set:',train.shape)\n",
    "print('Number of rows and columns in the test data set:',test.shape)"
   ]
  },
  {
   "cell_type": "code",
   "execution_count": 23,
   "metadata": {
    "collapsed": true
   },
   "outputs": [],
   "source": [
    "#train1=train.head(1000)\n",
    "#test1=test.head(1000)"
   ]
  },
  {
   "cell_type": "code",
   "execution_count": 21,
   "metadata": {
    "collapsed": true
   },
   "outputs": [],
   "source": [
    "sns.countplot?"
   ]
  },
  {
   "cell_type": "code",
   "execution_count": 4,
   "metadata": {},
   "outputs": [
    {
     "data": {
      "text/plain": [
       "<matplotlib.axes._subplots.AxesSubplot at 0x121003da128>"
      ]
     },
     "execution_count": 4,
     "metadata": {},
     "output_type": "execute_result"
    },
    {
     "data": {
      "image/png": "[encoded data removed]",
      "text/plain": [
       "<matplotlib.figure.Figure at 0x1217df20ac8>"
      ]
     },
     "metadata": {},
     "output_type": "display_data"
    }
   ],
   "source": [
    "fig,ax = plt.subplots(2,3,figsize=(16,10))\n",
    "ax1,ax2,ax3,ax4,ax5,ax6 = ax.flatten()\n",
    "sns.countplot(train['toxic'],palette= 'magma',ax=ax1)\n",
    "sns.countplot(train['severe_toxic'], palette= 'viridis',ax=ax2)\n",
    "sns.countplot(train['obscene'], palette= 'Set1',ax=ax3)\n",
    "sns.countplot(train['threat'], palette= 'viridis',ax = ax4)\n",
    "sns.countplot(train['insult'], palette = 'magma',ax=ax5)\n",
    "sns.countplot(train['identity_hate'], palette = 'Set1', ax = ax6)"
   ]
  },
  {
   "cell_type": "code",
   "execution_count": 5,
   "metadata": {},
   "outputs": [
    {
     "data": {
      "text/html": [
       "<div>\n",
       "<style scoped>\n",
       "    .dataframe tbody tr th:only-of-type {\n",
       "        vertical-align: middle;\n",
       "    }\n",
       "\n",
       "    .dataframe tbody tr th {\n",
       "        vertical-align: top;\n",
       "    }\n",
       "\n",
       "    .dataframe thead th {\n",
       "        text-align: right;\n",
       "    }\n",
       "</style>\n",
       "<table border=\"1\" class=\"dataframe\">\n",
       "  <thead>\n",
       "    <tr style=\"text-align: right;\">\n",
       "      <th></th>\n",
       "      <th>train</th>\n",
       "      <th>test</th>\n",
       "    </tr>\n",
       "  </thead>\n",
       "  <tbody>\n",
       "    <tr>\n",
       "      <th>id</th>\n",
       "      <td>0</td>\n",
       "      <td>0.0</td>\n",
       "    </tr>\n",
       "    <tr>\n",
       "      <th>comment_text</th>\n",
       "      <td>0</td>\n",
       "      <td>0.0</td>\n",
       "    </tr>\n",
       "    <tr>\n",
       "      <th>toxic</th>\n",
       "      <td>0</td>\n",
       "      <td>NaN</td>\n",
       "    </tr>\n",
       "    <tr>\n",
       "      <th>severe_toxic</th>\n",
       "      <td>0</td>\n",
       "      <td>NaN</td>\n",
       "    </tr>\n",
       "    <tr>\n",
       "      <th>obscene</th>\n",
       "      <td>0</td>\n",
       "      <td>NaN</td>\n",
       "    </tr>\n",
       "    <tr>\n",
       "      <th>threat</th>\n",
       "      <td>0</td>\n",
       "      <td>NaN</td>\n",
       "    </tr>\n",
       "    <tr>\n",
       "      <th>insult</th>\n",
       "      <td>0</td>\n",
       "      <td>NaN</td>\n",
       "    </tr>\n",
       "    <tr>\n",
       "      <th>identity_hate</th>\n",
       "      <td>0</td>\n",
       "      <td>NaN</td>\n",
       "    </tr>\n",
       "  </tbody>\n",
       "</table>\n",
       "</div>"
      ],
      "text/plain": [
       "               train  test\n",
       "id                 0   0.0\n",
       "comment_text       0   0.0\n",
       "toxic              0   NaN\n",
       "severe_toxic       0   NaN\n",
       "obscene            0   NaN\n",
       "threat             0   NaN\n",
       "insult             0   NaN\n",
       "identity_hate      0   NaN"
      ]
     },
     "execution_count": 5,
     "metadata": {},
     "output_type": "execute_result"
    }
   ],
   "source": [
    "k = pd.DataFrame()\n",
    "k['train'] = train.isnull().sum()\n",
    "k['test'] = test.isnull().sum()\n",
    "k"
   ]
  },
  {
   "cell_type": "code",
   "execution_count": 6,
   "metadata": {},
   "outputs": [],
   "source": [
    "vect_word = TfidfVectorizer(max_features=10000, lowercase=True, analyzer='word',\n",
    "                        stop_words= 'english',ngram_range=(1,2),dtype=np.float32)\n",
    "vect_char = TfidfVectorizer(max_features=30000, lowercase=True, analyzer='char',\n",
    "                        stop_words= 'english',ngram_range=(1,6),dtype=np.float32)"
   ]
  },
  {
   "cell_type": "code",
   "execution_count": 7,
   "metadata": {},
   "outputs": [],
   "source": [
    "train['total_length']=train['comment_text'].apply(len)\n",
    "train['capital_count']=train['comment_text'].apply(lambda comment: sum(1 for c in comment if c.isupper()))\n",
    "train['exclmtn_mark']=train['comment_text'].apply(lambda comment: comment.count('!'))\n",
    "train['punctutaion']=train['comment_text'].apply(lambda comment: sum(comment.count(w) for w in '.,;:'))\n",
    "train['unique_words']=train['comment_text'].apply(lambda comment: len(set(w for w in comment.split())))\n",
    "\n",
    "\n",
    "test['total_length']=test['comment_text'].apply(len)\n",
    "test['capital_count']=test['comment_text'].apply(lambda comment: sum(1 for c in comment if c.isupper()))\n",
    "test['exclmtn_mark']=test['comment_text'].apply(lambda comment: comment.count('!'))\n",
    "test['punctutaion']=test['comment_text'].apply(lambda comment: sum(comment.count(w) for w in '.,;:'))\n",
    "test['unique_words']=test['comment_text'].apply(lambda comment: len(set(w for w in comment.split())))"
   ]
  },
  {
   "cell_type": "code",
   "execution_count": 26,
   "metadata": {},
   "outputs": [
    {
     "name": "stdout",
     "output_type": "stream",
     "text": [
      "(10000, 13)\n",
      "1\n",
      "(10000, 13)\n",
      "2\n",
      "(10000, 13)\n",
      "3\n",
      "(10000, 13)\n",
      "4\n",
      "(10000, 13)\n",
      "5\n",
      "(10000, 13)\n",
      "6\n",
      "(10000, 13)\n",
      "7\n",
      "(10000, 13)\n",
      "8\n",
      "(10000, 13)\n",
      "9\n",
      "(10000, 13)\n",
      "10\n",
      "(10000, 13)\n",
      "11\n",
      "(10000, 13)\n",
      "12\n",
      "(10000, 13)\n",
      "13\n",
      "(10000, 13)\n",
      "14\n",
      "(10000, 13)\n",
      "15\n",
      "(9571, 13)\n",
      "16\n"
     ]
    }
   ],
   "source": [
    "tr_vect = vect_word.fit_transform(train['comment_text'])\n",
    "from scipy.sparse import lil_matrix\n",
    "tr_vect_char_all=lil_matrix((0,30000))\n",
    "for i in range(0,16):\n",
    "    j=10000*i\n",
    "    k=10000*(i+1)\n",
    "    \n",
    "    train1=train[j:k]\n",
    "    print (train1.shape[:])\n",
    "    i=i+1\n",
    "    \n",
    "    tr_vect_char = vect_char.fit_transform(train1['comment_text'])\n",
    "    tr_vect_char_all=sparse.vstack([tr_vect_char_all,tr_vect_char])\n",
    "    \n",
    "    print (i)\n",
    "X = sparse.hstack([tr_vect, tr_vect_char_all])\n",
    "del tr_vect, tr_vect_char,tr_vect_char_all"
   ]
  },
  {
   "cell_type": "code",
   "execution_count": 25,
   "metadata": {},
   "outputs": [
    {
     "data": {
      "text/plain": [
       "(159571, 10000)"
      ]
     },
     "execution_count": 25,
     "metadata": {},
     "output_type": "execute_result"
    }
   ],
   "source": [
    "tr_vect.shape[:]"
   ]
  },
  {
   "cell_type": "code",
   "execution_count": 27,
   "metadata": {},
   "outputs": [],
   "source": [
    "ts_vect = vect_word.transform(test['comment_text'])\n",
    "ts_vect_char = vect_char.transform(test['comment_text'])\n",
    "\n",
    "x_test = sparse.hstack([ts_vect, ts_vect_char])\n",
    "del ts_vect, ts_vect_char"
   ]
  },
  {
   "cell_type": "code",
   "execution_count": 28,
   "metadata": {},
   "outputs": [],
   "source": [
    "target_col = ['toxic', 'severe_toxic', 'obscene', 'threat','insult', 'identity_hate']\n",
    "y = train[target_col]"
   ]
  },
  {
   "cell_type": "code",
   "execution_count": 29,
   "metadata": {},
   "outputs": [
    {
     "name": "stdout",
     "output_type": "stream",
     "text": [
      "Building 0 model for column:toxic\n",
      "Building 1 model for column:severe_toxic\n",
      "Building 2 model for column:obscene\n",
      "Building 3 model for column:threat\n",
      "Building 4 model for column:insult\n",
      "Building 5 model for column:identity_hate\n"
     ]
    }
   ],
   "source": [
    "prd = np.zeros((x_test.shape[0],y.shape[1]))\n",
    "cv_score =[]\n",
    "for i,col in enumerate(target_col):\n",
    "    lr = LogisticRegression(C=4,random_state = i)\n",
    "    print('Building {} model for column:{''}'.format(i,col)) \n",
    "    lr.fit(X,y[col])\n",
    "    prd[:,i] = lr.predict_proba(x_test)[:,1]"
   ]
  },
  {
   "cell_type": "code",
   "execution_count": 30,
   "metadata": {
    "scrolled": true
   },
   "outputs": [
    {
     "name": "stdout",
     "output_type": "stream",
     "text": [
      "[[158123     43]\n",
      " [   615    790]]\n",
      "             precision    recall  f1-score   support\n",
      "\n",
      "          0       1.00      1.00      1.00    158166\n",
      "          1       0.95      0.56      0.71      1405\n",
      "\n",
      "avg / total       1.00      1.00      1.00    159571\n",
      "\n"
     ]
    }
   ],
   "source": [
    "col = 'identity_hate'\n",
    "\n",
    "pred =  lr.predict(X)\n",
    "print(confusion_matrix(y[col],pred))\n",
    "print(classification_report(y[col],pred))"
   ]
  },
  {
   "cell_type": "code",
   "execution_count": 31,
   "metadata": {},
   "outputs": [
    {
     "name": "stdout",
     "output_type": "stream",
     "text": [
      "Column: identity_hate\n"
     ]
    },
    {
     "data": {
      "text/plain": [
       "Text(0.5,1,'Reciever Operating Characteristic')"
      ]
     },
     "execution_count": 31,
     "metadata": {},
     "output_type": "execute_result"
    },
    {
     "data": {
      "image/png": "[encoded data removed]",
      "text/plain": [
       "<matplotlib.figure.Figure at 0x1212c25bfd0>"
      ]
     },
     "metadata": {},
     "output_type": "display_data"
    }
   ],
   "source": [
    "col = 'identity_hate'\n",
    "print(\"Column:\",col)\n",
    "pred_pro = lr.predict_proba(X)[:,1]\n",
    "frp,trp,thres = roc_curve(y[col],pred_pro)\n",
    "auc_val =auc(frp,trp)\n",
    "plt.figure(figsize=(14,10))\n",
    "plt.plot([0,1],[0,1],color='b')\n",
    "plt.plot(frp,trp,color='r',label= 'AUC = %.2f'%auc_val)\n",
    "plt.legend(loc='lower right')\n",
    "plt.xlabel('True positive rate')\n",
    "plt.ylabel('False positive rate')\n",
    "plt.title('Reciever Operating Characteristic')"
   ]
  },
  {
   "cell_type": "code",
   "execution_count": 32,
   "metadata": {
    "scrolled": true
   },
   "outputs": [
    {
     "data": {
      "text/html": [
       "<div>\n",
       "<style scoped>\n",
       "    .dataframe tbody tr th:only-of-type {\n",
       "        vertical-align: middle;\n",
       "    }\n",
       "\n",
       "    .dataframe tbody tr th {\n",
       "        vertical-align: top;\n",
       "    }\n",
       "\n",
       "    .dataframe thead th {\n",
       "        text-align: right;\n",
       "    }\n",
       "</style>\n",
       "<table border=\"1\" class=\"dataframe\">\n",
       "  <thead>\n",
       "    <tr style=\"text-align: right;\">\n",
       "      <th></th>\n",
       "      <th>id</th>\n",
       "      <th>toxic</th>\n",
       "      <th>severe_toxic</th>\n",
       "      <th>obscene</th>\n",
       "      <th>threat</th>\n",
       "      <th>insult</th>\n",
       "      <th>identity_hate</th>\n",
       "    </tr>\n",
       "  </thead>\n",
       "  <tbody>\n",
       "    <tr>\n",
       "      <th>0</th>\n",
       "      <td>00001cee341fdb12</td>\n",
       "      <td>0.999970</td>\n",
       "      <td>0.260945</td>\n",
       "      <td>0.999824</td>\n",
       "      <td>0.057741</td>\n",
       "      <td>0.961351</td>\n",
       "      <td>0.592982</td>\n",
       "    </tr>\n",
       "    <tr>\n",
       "      <th>1</th>\n",
       "      <td>0000247867823ef7</td>\n",
       "      <td>0.001143</td>\n",
       "      <td>0.001337</td>\n",
       "      <td>0.001875</td>\n",
       "      <td>0.000384</td>\n",
       "      <td>0.004219</td>\n",
       "      <td>0.000387</td>\n",
       "    </tr>\n",
       "    <tr>\n",
       "      <th>2</th>\n",
       "      <td>00013b17ad220c46</td>\n",
       "      <td>0.010696</td>\n",
       "      <td>0.001548</td>\n",
       "      <td>0.014097</td>\n",
       "      <td>0.000181</td>\n",
       "      <td>0.008279</td>\n",
       "      <td>0.000791</td>\n",
       "    </tr>\n",
       "    <tr>\n",
       "      <th>3</th>\n",
       "      <td>00017563c3f7919a</td>\n",
       "      <td>0.001208</td>\n",
       "      <td>0.001833</td>\n",
       "      <td>0.001234</td>\n",
       "      <td>0.000746</td>\n",
       "      <td>0.001526</td>\n",
       "      <td>0.000208</td>\n",
       "    </tr>\n",
       "    <tr>\n",
       "      <th>4</th>\n",
       "      <td>00017695ad8997eb</td>\n",
       "      <td>0.193480</td>\n",
       "      <td>0.003361</td>\n",
       "      <td>0.009386</td>\n",
       "      <td>0.001038</td>\n",
       "      <td>0.017844</td>\n",
       "      <td>0.002246</td>\n",
       "    </tr>\n",
       "  </tbody>\n",
       "</table>\n",
       "</div>"
      ],
      "text/plain": [
       "                 id     toxic  severe_toxic   obscene    threat    insult  \\\n",
       "0  00001cee341fdb12  0.999970      0.260945  0.999824  0.057741  0.961351   \n",
       "1  0000247867823ef7  0.001143      0.001337  0.001875  0.000384  0.004219   \n",
       "2  00013b17ad220c46  0.010696      0.001548  0.014097  0.000181  0.008279   \n",
       "3  00017563c3f7919a  0.001208      0.001833  0.001234  0.000746  0.001526   \n",
       "4  00017695ad8997eb  0.193480      0.003361  0.009386  0.001038  0.017844   \n",
       "\n",
       "   identity_hate  \n",
       "0       0.592982  \n",
       "1       0.000387  \n",
       "2       0.000791  \n",
       "3       0.000208  \n",
       "4       0.002246  "
      ]
     },
     "execution_count": 32,
     "metadata": {},
     "output_type": "execute_result"
    }
   ],
   "source": [
    "prd_1 = pd.DataFrame(prd,columns=y.columns)\n",
    "submit = pd.concat([test['id'],prd_1],axis=1)\n",
    "#submit.to_csv('toxic_lr.csv.gz',compression='gzip',index=False)\n",
    "submit.to_csv('toxic_lr.csv',index=False)\n",
    "submit.head()"
   ]
  },
  {
   "cell_type": "code",
   "execution_count": null,
   "metadata": {
    "collapsed": true
   },
   "outputs": [],
   "source": []
  }
 ],
 "metadata": {
  "kernelspec": {
   "display_name": "Python 3",
   "language": "python",
   "name": "python3"
  },
  "language_info": {
   "codemirror_mode": {
    "name": "ipython",
    "version": 3
   },
   "file_extension": ".py",
   "mimetype": "text/x-python",
   "name": "python",
   "nbconvert_exporter": "python",
   "pygments_lexer": "ipython3",
   "version": "3.6.4"
  }
 },
 "nbformat": 4,
 "nbformat_minor": 1
}
